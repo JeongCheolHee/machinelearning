{
  "nbformat": 4,
  "nbformat_minor": 0,
  "metadata": {
    "colab": {
      "provenance": [],
      "authorship_tag": "ABX9TyNzjFqWjiR1UyPG52uzMGGW",
      "include_colab_link": true
    },
    "kernelspec": {
      "name": "python3",
      "display_name": "Python 3"
    },
    "language_info": {
      "name": "python"
    }
  },
  "cells": [
    {
      "cell_type": "markdown",
      "metadata": {
        "id": "view-in-github",
        "colab_type": "text"
      },
      "source": [
        "<a href=\"https://colab.research.google.com/github/JeongCheolHee/colab/blob/main/%EA%B5%90%EC%B0%A8_%EA%B2%80%EC%A6%9D%EA%B3%BC_%EA%B7%B8%EB%A6%AC%EB%93%9C_%EC%84%9C%EC%B9%98.ipynb\" target=\"_parent\"><img src=\"https://colab.research.google.com/assets/colab-badge.svg\" alt=\"Open In Colab\"/></a>"
      ]
    },
    {
      "cell_type": "code",
      "execution_count": null,
      "metadata": {
        "id": "Jr9u2DgqWO-1"
      },
      "outputs": [],
      "source": [
        "#검증 테스트\n",
        "#테스트 세트를 사용하지 않고 이를 측정하는 간단한 방법 \n",
        "#훈련세트 중 20~30%를 떼어 내어 검증 세트로 만듬"
      ]
    },
    {
      "cell_type": "code",
      "source": [
        "import pandas as pd\n",
        "wine = pd.read_csv(\"https://bit.ly/wine_csv_data\")\n",
        "data = wine[['alcohol','sugar','pH']].to_numpy()\n",
        "target = wine['class'].to_numpy()"
      ],
      "metadata": {
        "id": "5nwt34WS6rno"
      },
      "execution_count": null,
      "outputs": []
    },
    {
      "cell_type": "code",
      "source": [
        "from sklearn.model_selection import train_test_split\n",
        "train_input, test_input, train_target, test_target = train_test_split(data, target, test_size = 0.2, random_state = 42)"
      ],
      "metadata": {
        "id": "nBH4EECWEZ2x"
      },
      "execution_count": null,
      "outputs": []
    },
    {
      "cell_type": "code",
      "source": [
        "#검증 세트 만들기\n",
        "sub_input, val_input, sub_target, val_target = train_test_split(train_input, train_target , test_size = 0.2 , random_state = 42)"
      ],
      "metadata": {
        "id": "0PwppczBFewN"
      },
      "execution_count": null,
      "outputs": []
    },
    {
      "cell_type": "code",
      "source": [
        "print(sub_input.shape, val_input.shape)"
      ],
      "metadata": {
        "colab": {
          "base_uri": "https://localhost:8080/"
        },
        "id": "lRJoVSufGH8q",
        "outputId": "b8ad72bd-7498-47fd-f40f-0f9ba5a58636"
      },
      "execution_count": null,
      "outputs": [
        {
          "output_type": "stream",
          "name": "stdout",
          "text": [
            "(4157, 3) (1040, 3)\n"
          ]
        }
      ]
    },
    {
      "cell_type": "code",
      "source": [
        "#sub_input, sub_target, val_input, val_target을 사용해 모델 제작 및 평가\n",
        "from sklearn.tree import DecisionTreeClassifier\n",
        "dt = DecisionTreeClassifier(random_state =42)\n",
        "dt.fit(sub_input, sub_target)\n",
        "print(dt.score(sub_input, sub_target))\n",
        "print(dt.score(val_input,val_target))"
      ],
      "metadata": {
        "colab": {
          "base_uri": "https://localhost:8080/"
        },
        "id": "PBK7qWn7GTux",
        "outputId": "01104bc2-72e8-45c7-bd39-914d321c9641"
      },
      "execution_count": null,
      "outputs": [
        {
          "output_type": "stream",
          "name": "stdout",
          "text": [
            "0.9971133028626413\n",
            "0.864423076923077\n"
          ]
        }
      ]
    },
    {
      "cell_type": "code",
      "source": [
        "#검증 세트를 너무 조금 떼어 놓으면 검증 점수가 들쭉날쭉하고 불안정함-> 교차 검증을 이용\n",
        "#교차검증을 이용하면 안정적인 검증 점수를 얻고 훈련에 더 많은 데이터를 사용할 수 있음\n",
        "#k-겹 교차 검징 : 훈련 세트를 k 부분으로 나눠서 교차 검증을 수행하는 것\n",
        "from sklearn.model_selection import cross_validate\n",
        "scores = cross_validate(dt, train_input, train_target)\n",
        "print(scores,'\\n')\n",
        "#교차 검증의 최종 점수는 test_score키에 담긴 5개의 점수를 평균하여 얻을 수 있음(주의 : 이름은 test_score지만 검증 폴드의 점수임)\n",
        "import numpy as np\n",
        "print(np.mean(scores['test_score']))"
      ],
      "metadata": {
        "colab": {
          "base_uri": "https://localhost:8080/"
        },
        "id": "WZ-0GTmlG3IB",
        "outputId": "18e451eb-f896-4e50-90d0-67840afc4fc7"
      },
      "execution_count": null,
      "outputs": [
        {
          "output_type": "stream",
          "name": "stdout",
          "text": [
            "{'fit_time': array([0.01014328, 0.00733471, 0.00612998, 0.00611877, 0.00589657]), 'score_time': array([0.00085354, 0.00061369, 0.00047135, 0.00055122, 0.00053596]), 'test_score': array([0.86923077, 0.84615385, 0.87680462, 0.84889317, 0.83541867])} \n",
            "\n",
            "0.855300214703487\n"
          ]
        }
      ]
    },
    {
      "cell_type": "code",
      "source": [
        "#주의 : cross_validate 는 train_test_split과 달리 데이터를 섞지 않기 때문에 따로 섞어줘야함\n",
        "#사이키럿의 분할기는 교차 검증에서 KFold분할기를 사용하기 위해 기본적으로 StratifiedKFold를 사용함\n",
        "from sklearn.model_selection import StratifiedKFold\n",
        "scores = cross_validate(dt, train_input, train_target, cv = StratifiedKFold())\n",
        "print(np.mean(scores['test_score']), '\\n')\n",
        "#만약 훈련 세트를 섞은 후 10-폴드 교차 검증을 수행하기 위해서는 다음과 같은 코드 작성\n",
        "splitter = StratifiedKFold(n_splits = 10, shuffle = True, random_state = 42)\n",
        "scores = cross_validate(dt, train_input, train_target, cv = splitter)\n",
        "print(np.mean(scores['test_score']))"
      ],
      "metadata": {
        "colab": {
          "base_uri": "https://localhost:8080/"
        },
        "id": "mI_BElj1RHVn",
        "outputId": "3d66c3a6-8e8a-4b41-d0ac-cd57c1b3c7e1"
      },
      "execution_count": null,
      "outputs": [
        {
          "output_type": "stream",
          "name": "stdout",
          "text": [
            "0.855300214703487 \n",
            "\n",
            "0.8574181117533719\n"
          ]
        }
      ]
    },
    {
      "cell_type": "code",
      "source": [
        "#하이퍼파라미터 튜닝\n",
        "#하이퍼파라미터 : 사용자 지정 파라미터\n",
        "#튜닝 과정 : 라이브러리가 제공하는 기본값을 그대로 사용해 훈련, 그 다음 검증 세트 점수나 교차 검증을 통해서 매개변수를 조금씩 바꿔 가며 훈련\n",
        "#여러개의 매개변수들이 동시에 만족하는 최적값을 찾아야 하기 때문에 복잡함 -> 그리드 서치 사용\n",
        "#GridSearchCV클래스는 하이퍼파라미터 탐색과 교차 검증을 한 번에 수행\n",
        "from sklearn.model_selection import GridSearchCV\n",
        "params = {'min_impurity_decrease' : [0.0001, 0.0002, 0.0003, 0.0004, 0.0005]}\n",
        "gs = GridSearchCV(DecisionTreeClassifier(random_state = 42), params, n_jobs = -1)\n",
        "#GridSearchCV의 cv 매개변수 기본값은 5 따라서 min_impur~~~값마다 교차검증을 수행하므로 총 25번\n",
        "gs.fit(train_input, train_target)"
      ],
      "metadata": {
        "id": "nOfwoDU_VgrY",
        "colab": {
          "base_uri": "https://localhost:8080/"
        },
        "outputId": "bd28af1c-625e-4310-a7f5-341a7b0884f2"
      },
      "execution_count": 21,
      "outputs": [
        {
          "output_type": "execute_result",
          "data": {
            "text/plain": [
              "GridSearchCV(estimator=DecisionTreeClassifier(random_state=42), n_jobs=-1,\n",
              "             param_grid={'min_impurity_decrease': [0.0001, 0.0002, 0.0003,\n",
              "                                                   0.0004, 0.0005]})"
            ]
          },
          "metadata": {},
          "execution_count": 21
        }
      ]
    },
    {
      "cell_type": "code",
      "source": [
        "#교차 검증에서 최적의 하이퍼파라미터를 찾으면 전체 훈련 세트로 모델을 다시 만들어야하지만, 그리드 서치는 훈련이 끝나면\n",
        "#전체 모델 중에서 검증 점수가 가장 높은 모델의 매개변수 조합으로 전체 훈련세트에서 자동으로 다시 모델을 훈련함\n",
        "dt = gs.best_estimator_\n",
        "print(dt.score(train_input, train_target),'\\n')\n",
        "print(gs.best_params_) # 최적의 하이퍼파라미터\n",
        "best_index = np.argmax(gs.cv_results_['mean_test_score'])\n",
        "print(gs.cv_results_['params'][best_index])"
      ],
      "metadata": {
        "colab": {
          "base_uri": "https://localhost:8080/"
        },
        "id": "1PffHjyFc896",
        "outputId": "7f3c274f-af1e-4d5b-e1c9-77e78b3c99c4"
      },
      "execution_count": 25,
      "outputs": [
        {
          "output_type": "stream",
          "name": "stdout",
          "text": [
            "0.9615162593804117 \n",
            "\n",
            "{'min_impurity_decrease': 0.0001}\n",
            "{'min_impurity_decrease': 0.0001}\n"
          ]
        }
      ]
    },
    {
      "cell_type": "code",
      "source": [
        "#그리드 서치\n",
        "'''1. 탐색할 매개변수를 지정\n",
        "   2. 훈련 세트에서 그리드 서치를 수행하여 최상의 평균 검증 점수가 나오는 매개변수 조합을 찾는다\n",
        "       -> 이 조합은 그리드 서치 객체에 저장됨\n",
        "   3. 그리드 서치는 최상의 매개변수에서(교차 검증에 사용한 훈련 세트가 아니라) 전체 훈련 세트를 사용해\n",
        "      최종 모뎅르 훈련함 -> 이 모델도 그리드 서치 객체에 저장됨\n",
        "'''"
      ],
      "metadata": {
        "colab": {
          "base_uri": "https://localhost:8080/",
          "height": 54
        },
        "id": "syO6nJjWfb4g",
        "outputId": "8997bf57-29f8-41e8-f518-80372400c018"
      },
      "execution_count": 26,
      "outputs": [
        {
          "output_type": "execute_result",
          "data": {
            "text/plain": [
              "'1. 탐색할 매개변수를 지정\\n   2. 훈련 세트에서 그리드 서치를 수행하여 최상의 평균 검증 점수가 나오는 매개변수 조합을 찾는다\\n       -> 이 조합은 그리드 서치 객체에 저장됨\\n   3. 그리드 서치는 최상의 매개변수에서(교차 검증에 사용한 훈련 세트가 아니라) 전체 훈련 세트를 사용해\\n      최종 모뎅르 훈련함 -> 이 모델도 그리드 서치 객체에 저장됨\\n'"
            ],
            "application/vnd.google.colaboratory.intrinsic+json": {
              "type": "string"
            }
          },
          "metadata": {},
          "execution_count": 26
        }
      ]
    },
    {
      "cell_type": "code",
      "source": [
        "params = {'min_impurity_decrease' : np.arange(0.0001, 0.001, 0.0001),\n",
        "          'max_depth' : range(5,20,1),\n",
        "          'min_samples_split' : range(2, 100, 10)}\n",
        "gs = GridSearchCV(DecisionTreeClassifier(random_state = 42), params, n_jobs = -1)\n",
        "gs.fit(train_input, train_target)"
      ],
      "metadata": {
        "colab": {
          "base_uri": "https://localhost:8080/"
        },
        "id": "jRjDwdo4hlUR",
        "outputId": "15ab1bae-ad11-4a39-9c87-9c723c2765ed"
      },
      "execution_count": 28,
      "outputs": [
        {
          "output_type": "execute_result",
          "data": {
            "text/plain": [
              "GridSearchCV(estimator=DecisionTreeClassifier(random_state=42), n_jobs=-1,\n",
              "             param_grid={'max_depth': range(5, 20),\n",
              "                         'min_impurity_decrease': array([0.0001, 0.0002, 0.0003, 0.0004, 0.0005, 0.0006, 0.0007, 0.0008,\n",
              "       0.0009]),\n",
              "                         'min_samples_split': range(2, 100, 10)})"
            ]
          },
          "metadata": {},
          "execution_count": 28
        }
      ]
    },
    {
      "cell_type": "code",
      "source": [
        "print(gs.best_params_)"
      ],
      "metadata": {
        "colab": {
          "base_uri": "https://localhost:8080/"
        },
        "id": "GPiBL9hSiEhH",
        "outputId": "9315857d-aa42-4738-e84b-635a1db56beb"
      },
      "execution_count": 29,
      "outputs": [
        {
          "output_type": "stream",
          "name": "stdout",
          "text": [
            "{'max_depth': 14, 'min_impurity_decrease': 0.0004, 'min_samples_split': 12}\n"
          ]
        }
      ]
    },
    {
      "cell_type": "code",
      "source": [
        "#탐색할 매개변수의 간격을 설정한 근거가 없음, 어떻게 설정해야 할까?\n",
        "#랜덤 서치 : 매개변수를 샘플링할 수 있는 확률 분포 객체를 전달\n",
        "from scipy.stats import uniform, randint # scipy는 수치 계산 전용 라이브러리"
      ],
      "metadata": {
        "id": "nIIyxrF7mCFg"
      },
      "execution_count": 32,
      "outputs": []
    },
    {
      "cell_type": "code",
      "source": [
        "rgen = randint(0,10)\n",
        "rgen.rvs(10)\n",
        "ugen = uniform(0,1)\n",
        "ugen.rvs(10)"
      ],
      "metadata": {
        "colab": {
          "base_uri": "https://localhost:8080/"
        },
        "id": "K4uYxfz3ovAZ",
        "outputId": "aab52545-52b4-4d6c-d973-48e231ba7f9e"
      },
      "execution_count": 34,
      "outputs": [
        {
          "output_type": "execute_result",
          "data": {
            "text/plain": [
              "array([0.71176117, 0.34779154, 0.85134199, 0.74047377, 0.08040047,\n",
              "       0.33318747, 0.43129774, 0.39095319, 0.3123025 , 0.1356534 ])"
            ]
          },
          "metadata": {},
          "execution_count": 34
        }
      ]
    },
    {
      "cell_type": "code",
      "source": [
        "''' 랜덤 서치에 randint과 uniform 클래스 객체를 넘겨주고 총 몇 번을 샘플링해서 최적의 매개변수를 찾으라고 명령할 수 있다\n",
        "    샘플링 횟수는 시스템 자원이 허락하는 범위 내에서 최대한 크게 하는 것이 좋다'''\n",
        "params = {'min_impurity_decrease' : uniform(0.0001, 0.001),\n",
        "          'max_depth' : randint(20,50),\n",
        "          'min_samples_split' : randint(2,25),\n",
        "          'min_samples_leaf' : randint(1,25)} # min_samples_leaf는 리프 노드가 되기 위한 최소 샘플의 개수\n",
        "from sklearn.model_selection import RandomizedSearchCV\n",
        "gs = RandomizedSearchCV(DecisionTreeClassifier(random_state = 42), params, \n",
        "                  n_iter = 100, n_jobs = -1, random_state = 42)\n",
        "gs.fit(train_input, train_target)\n"
      ],
      "metadata": {
        "colab": {
          "base_uri": "https://localhost:8080/"
        },
        "id": "EKIv6Y78pp2h",
        "outputId": "62b00f3a-bea4-456a-de02-566e286026cc"
      },
      "execution_count": 36,
      "outputs": [
        {
          "output_type": "execute_result",
          "data": {
            "text/plain": [
              "RandomizedSearchCV(estimator=DecisionTreeClassifier(random_state=42),\n",
              "                   n_iter=100, n_jobs=-1,\n",
              "                   param_distributions={'max_depth': <scipy.stats._distn_infrastructure.rv_frozen object at 0x7fae90495df0>,\n",
              "                                        'min_impurity_decrease': <scipy.stats._distn_infrastructure.rv_frozen object at 0x7fae9044ff70>,\n",
              "                                        'min_samples_leaf': <scipy.stats._distn_infrastructure.rv_frozen object at 0x7fae90489100>,\n",
              "                                        'min_samples_split': <scipy.stats._distn_infrastructure.rv_frozen object at 0x7fae90489f70>},\n",
              "                   random_state=42)"
            ]
          },
          "metadata": {},
          "execution_count": 36
        }
      ]
    },
    {
      "cell_type": "code",
      "source": [
        "print(gs.best_params_)\n",
        "print(np.max(gs.cv_results_['mean_test_score']))\n",
        "dt = gs.best_estimator_\n",
        "print(dt.score(test_input, test_target))"
      ],
      "metadata": {
        "colab": {
          "base_uri": "https://localhost:8080/"
        },
        "id": "8Si2F1ZLtceb",
        "outputId": "27dab947-f89e-4851-e2fa-1c17d21406db"
      },
      "execution_count": 40,
      "outputs": [
        {
          "output_type": "stream",
          "name": "stdout",
          "text": [
            "{'max_depth': 39, 'min_impurity_decrease': 0.00034102546602601173, 'min_samples_leaf': 7, 'min_samples_split': 13}\n",
            "0.8695428296438884\n",
            "0.86\n"
          ]
        }
      ]
    },
    {
      "cell_type": "code",
      "source": [],
      "metadata": {
        "id": "QBhPywNSuBsb"
      },
      "execution_count": null,
      "outputs": []
    },
    {
      "cell_type": "code",
      "source": [],
      "metadata": {
        "id": "z5eF-KtbtuKK"
      },
      "execution_count": null,
      "outputs": []
    }
  ]
}