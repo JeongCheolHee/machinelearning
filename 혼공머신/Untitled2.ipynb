{
  "nbformat": 4,
  "nbformat_minor": 0,
  "metadata": {
    "colab": {
      "provenance": [],
      "collapsed_sections": [],
      "authorship_tag": "ABX9TyNUQtJ/QOib+WTliw4+wshQ",
      "include_colab_link": true
    },
    "kernelspec": {
      "name": "python3",
      "display_name": "Python 3"
    },
    "language_info": {
      "name": "python"
    }
  },
  "cells": [
    {
      "cell_type": "markdown",
      "metadata": {
        "id": "view-in-github",
        "colab_type": "text"
      },
      "source": [
        "<a href=\"https://colab.research.google.com/github/JeongCheolHee/colab/blob/main/Untitled2.ipynb\" target=\"_parent\"><img src=\"https://colab.research.google.com/assets/colab-badge.svg\" alt=\"Open In Colab\"/></a>"
      ]
    },
    {
      "cell_type": "code",
      "execution_count": null,
      "metadata": {
        "id": "Znj9e2CSMrzk",
        "colab": {
          "base_uri": "https://localhost:8080/"
        },
        "outputId": "4dc88c50-a841-49ed-cdd2-e0d33bb6d8e3"
      },
      "outputs": [
        {
          "output_type": "stream",
          "name": "stdout",
          "text": [
            "Downloading data from https://storage.googleapis.com/tensorflow/tf-keras-datasets/train-labels-idx1-ubyte.gz\n",
            "32768/29515 [=================================] - 0s 0us/step\n",
            "40960/29515 [=========================================] - 0s 0us/step\n",
            "Downloading data from https://storage.googleapis.com/tensorflow/tf-keras-datasets/train-images-idx3-ubyte.gz\n",
            "26427392/26421880 [==============================] - 0s 0us/step\n",
            "26435584/26421880 [==============================] - 0s 0us/step\n",
            "Downloading data from https://storage.googleapis.com/tensorflow/tf-keras-datasets/t10k-labels-idx1-ubyte.gz\n",
            "16384/5148 [===============================================================================================] - 0s 0us/step\n",
            "Downloading data from https://storage.googleapis.com/tensorflow/tf-keras-datasets/t10k-images-idx3-ubyte.gz\n",
            "4423680/4422102 [==============================] - 0s 0us/step\n",
            "4431872/4422102 [==============================] - 0s 0us/step\n"
          ]
        }
      ],
      "source": [
        "import tensorflow as tf\n",
        "import numpy as np\n",
        "import matplotlib.pyplot as plt\n",
        "\n",
        "mnist = tf.keras.datasets.fashion_mnist\n",
        "(train_images, train_labels), (test_images, test_labels) = mnist.load_data()"
      ]
    },
    {
      "cell_type": "code",
      "source": [
        "print(train_images.shape)\n",
        "print(test_images.shape)\n",
        "print(train_labels.shape)\n",
        "print(test_labels.shape)"
      ],
      "metadata": {
        "colab": {
          "base_uri": "https://localhost:8080/"
        },
        "id": "2Ctwk4e_PNDl",
        "outputId": "bdffd736-d6f3-4573-93ee-15bc30a9bf5d"
      },
      "execution_count": null,
      "outputs": [
        {
          "output_type": "stream",
          "name": "stdout",
          "text": [
            "(60000, 28, 28)\n",
            "(10000, 28, 28)\n",
            "(60000,)\n",
            "(10000,)\n"
          ]
        }
      ]
    },
    {
      "cell_type": "code",
      "source": [
        "fig = plt.figure() # 이미지를 여러 개 띄우기 위해 빈 공간 먼저 만들기\n",
        "ax1 = fig.add_subplot(1, 3, 1) #1행 3열 짜리 중 첫 번째 \n",
        "ax2 = fig.add_subplot(1, 3, 2) #2번째\n",
        "ax3 = fig.add_subplot(1, 3, 3) #3번째\n",
        "ax1.imshow(train_images[0])\n",
        "ax2.imshow(train_images[1])\n",
        "ax3.imshow(train_images[2])\n",
        "#각자 이미지가 정답인지 확인하기 위해 아래 작업 실시\n",
        "print(train_labels[:3]) # [9 0 0]이 나온다 -> 부츠 티셔츠 티셔츠\n"
      ],
      "metadata": {
        "colab": {
          "base_uri": "https://localhost:8080/",
          "height": 168
        },
        "id": "fDpnm3OXRE4R",
        "outputId": "19c12af4-f535-4030-97ea-a4f4502da613"
      },
      "execution_count": null,
      "outputs": [
        {
          "output_type": "stream",
          "name": "stdout",
          "text": [
            "[9 0 0]\n"
          ]
        },
        {
          "output_type": "display_data",
          "data": {
            "text/plain": [
              "<Figure size 432x288 with 3 Axes>"
            ],
            "image/png": "[encoded data removed]"
          },
          "metadata": {
            "needs_background": "light"
          }
        }
      ]
    },
    {
      "cell_type": "code",
      "source": [
        "model = tf.keras.Sequential([                    \n",
        "        tf.keras.layers.Flatten(input_shape = (28,28)),\n",
        "        tf.keras.layers.Dense(128, activation = 'relu'),\n",
        "        tf.keras.layers.Dense(10, activation = 'softmax')\n",
        "])\n",
        "model.compile(optimizer = 'adam', loss = 'sparse_categorical_crossentropy', metrics = ['accuracy'])\n",
        "model.fit(train_images, train_labels, epochs = 5)"
      ],
      "metadata": {
        "colab": {
          "base_uri": "https://localhost:8080/"
        },
        "id": "N_Z1K2mvZskk",
        "outputId": "41b1c0dc-aef0-49f3-8e7d-8a0a4724033c"
      },
      "execution_count": null,
      "outputs": [
        {
          "output_type": "stream",
          "name": "stdout",
          "text": [
            "Epoch 1/5\n",
            "1875/1875 [==============================] - 14s 7ms/step - loss: 2.9950 - accuracy: 0.6803\n",
            "Epoch 2/5\n",
            "1875/1875 [==============================] - 7s 4ms/step - loss: 0.6947 - accuracy: 0.7213\n",
            "Epoch 3/5\n",
            "1875/1875 [==============================] - 6s 3ms/step - loss: 0.5789 - accuracy: 0.7858\n",
            "Epoch 4/5\n",
            "1875/1875 [==============================] - 8s 4ms/step - loss: 0.5385 - accuracy: 0.8101\n",
            "Epoch 5/5\n",
            "1875/1875 [==============================] - 7s 3ms/step - loss: 0.5239 - accuracy: 0.8178\n"
          ]
        },
        {
          "output_type": "execute_result",
          "data": {
            "text/plain": [
              "<keras.callbacks.History at 0x7f95a675ad50>"
            ]
          },
          "metadata": {},
          "execution_count": 4
        }
      ]
    },
    {
      "cell_type": "code",
      "source": [
        "model.evaluate(test_images, test_labels, verbose = 2) #model 평가하기"
      ],
      "metadata": {
        "colab": {
          "base_uri": "https://localhost:8080/"
        },
        "id": "XS_myemTcsY5",
        "outputId": "0baa5cf8-5482-47c8-a08e-45d29a275d0f"
      },
      "execution_count": null,
      "outputs": [
        {
          "output_type": "stream",
          "name": "stdout",
          "text": [
            "313/313 - 1s - loss: 0.6001 - accuracy: 0.7904 - 614ms/epoch - 2ms/step\n"
          ]
        },
        {
          "output_type": "execute_result",
          "data": {
            "text/plain": [
              "[0.6001378297805786, 0.7904000282287598]"
            ]
          },
          "metadata": {},
          "execution_count": 5
        }
      ]
    },
    {
      "cell_type": "code",
      "source": [
        "print(test_images.shape)\n",
        "plt.imshow(test_images[200])\n",
        "print(test_labels[200])\n",
        "print(test_labels.shape)\n",
        "model.predict(test_images[200][np.newaxis,:,:])\n",
        "np.argmax(model.predict(test_images[200][np.newaxis,:,:])) #가장 예측 잘한거 출력해준다 = 확률이 가장 높은 것을 출력해준다"
      ],
      "metadata": {
        "colab": {
          "base_uri": "https://localhost:8080/",
          "height": 340
        },
        "id": "Jpf-QLsmdvc-",
        "outputId": "d354388e-08ad-42c9-9664-5d3075a98783"
      },
      "execution_count": null,
      "outputs": [
        {
          "output_type": "stream",
          "name": "stdout",
          "text": [
            "(10000, 28, 28)\n",
            "1\n",
            "(10000,)\n"
          ]
        },
        {
          "output_type": "execute_result",
          "data": {
            "text/plain": [
              "1"
            ]
          },
          "metadata": {},
          "execution_count": 6
        },
        {
          "output_type": "display_data",
          "data": {
            "text/plain": [
              "<Figure size 432x288 with 1 Axes>"
            ],
            "image/png": "[encoded data removed]"
          },
          "metadata": {
            "needs_background": "light"
          }
        }
      ]
    },
    {
      "cell_type": "code",
      "source": [
        "from google.colab import drive\n",
        "drive.mount('/content/drive')"
      ],
      "metadata": {
        "colab": {
          "base_uri": "https://localhost:8080/"
        },
        "id": "tTbOiPwFjNDP",
        "outputId": "e4a80867-fed1-4e29-e9e7-f5ae2c3e9feb"
      },
      "execution_count": null,
      "outputs": [
        {
          "output_type": "stream",
          "name": "stdout",
          "text": [
            "Mounted at /content/drive\n"
          ]
        }
      ]
    },
    {
      "cell_type": "code",
      "source": [
        "!pwd #현재 작업하고 있는 폴더가 어딘지\n",
        "!ls  ./drive/'My Drive' -la"
      ],
      "metadata": {
        "colab": {
          "base_uri": "https://localhost:8080/"
        },
        "id": "17n8mNXUmz1z",
        "outputId": "46cb2ffd-73c1-4348-99af-f696d980da2d"
      },
      "execution_count": null,
      "outputs": [
        {
          "output_type": "stream",
          "name": "stdout",
          "text": [
            "/content\n",
            "total 1324\n",
            "-rw------- 1 root root  73930 Apr 12  2021  bag_cartoon.png\n",
            "drwx------ 2 root root   4096 May 29 13:32 'Colab Notebooks'\n",
            "-rw------- 1 root root 665719 Jun  2 17:55  image.zip\n",
            "-rw------- 1 root root 598385 Apr 12  2021  myData.png\n",
            "-rw------- 1 root root   5602 Jul 26  2021  README.md\n",
            "-rw------- 1 root root   6149 Jul 26  2021  syllabus.md\n"
          ]
        }
      ]
    },
    {
      "cell_type": "code",
      "source": [
        "import matplotlib.image as mpimg\n",
        "img = mpimg.imread('./drive/My Drive/myData.png') #google drive에 있는 myData.png 이미지 불러오기\n",
        "plt.imshow(img) #불러온 이미지 확인하기\n",
        "print(img.shape) # 28 by 28 이 아니다 28by28로 바꿔줘야함\n",
        "import cv2\n",
        "img = mpimg.imread('./drive/My Drive/myData.png', cv2.IMREAD_GRAYSCALE) #IMREAD_GRAYSCALE가 잘먹지 않음;;;\n",
        "plt.imshow(img)\n",
        "img = cv2.resize(img, (28, 28))  # 이미지 resize 작업\n",
        "plt.imshow(img[:,:,1])\n",
        "print(img.shape)#사이즈가 28 x 28로 바뀜"
      ],
      "metadata": {
        "colab": {
          "base_uri": "https://localhost:8080/",
          "height": 302
        },
        "id": "wajKV1WroLdz",
        "outputId": "005200c4-251c-48df-c202-c44e67ec10c0"
      },
      "execution_count": null,
      "outputs": [
        {
          "output_type": "stream",
          "name": "stdout",
          "text": [
            "(743, 916, 4)\n",
            "(28, 28, 4)\n"
          ]
        },
        {
          "output_type": "display_data",
          "data": {
            "text/plain": [
              "<Figure size 432x288 with 1 Axes>"
            ],
            "image/png": "[encoded data removed]"
          },
          "metadata": {
            "needs_background": "light"
          }
        }
      ]
    },
    {
      "cell_type": "code",
      "source": [
        "input_data = img[np.newaxis, :, :, 1]\n",
        "print(input_data.shape)\n",
        "\n",
        "\n",
        "np.argmax(model.predict(input_data)) #최대값을 갖는 범주 = 8 <- bag 잘못된 값을 추정함"
      ],
      "metadata": {
        "colab": {
          "base_uri": "https://localhost:8080/"
        },
        "id": "poREwJLTojfl",
        "outputId": "0039da36-1ddb-4dc3-f24c-ead5d0bbfe65"
      },
      "execution_count": null,
      "outputs": [
        {
          "output_type": "stream",
          "name": "stdout",
          "text": [
            "(1, 28, 28)\n"
          ]
        },
        {
          "output_type": "execute_result",
          "data": {
            "text/plain": [
              "8"
            ]
          },
          "metadata": {},
          "execution_count": 10
        }
      ]
    },
    {
      "cell_type": "code",
      "source": [
        "image_mirror = input_data[:,:,::-1] #기존 이미지를 좌우 대칭 시킴 \n",
        "print(image_mirror.shape)\n",
        "plt.imshow(image_mirror[0])\n",
        "np.argmax(model.predict(image_mirror)) #최대값을 갖는 범주 = 9 <- 부츠 정확히 추정함"
      ],
      "metadata": {
        "colab": {
          "base_uri": "https://localhost:8080/",
          "height": 302
        },
        "id": "6GhEDhy9rLO7",
        "outputId": "3ab16b5e-be9d-496d-c8f4-ba4a548266b3"
      },
      "execution_count": null,
      "outputs": [
        {
          "output_type": "stream",
          "name": "stdout",
          "text": [
            "(1, 28, 28)\n"
          ]
        },
        {
          "output_type": "execute_result",
          "data": {
            "text/plain": [
              "()"
            ]
          },
          "metadata": {},
          "execution_count": 11
        },
        {
          "output_type": "display_data",
          "data": {
            "text/plain": [
              "<Figure size 432x288 with 1 Axes>"
            ],
            "image/png": "[encoded data removed]"
          },
          "metadata": {
            "needs_background": "light"
          }
        }
      ]
    },
    {
      "cell_type": "code",
      "source": [
        "import tensorflow as tf\n",
        "model2 = tf.keras.Sequential([\n",
        "      tf.keras.layers.Flatten(input_shape = (28, 28)),\n",
        "      tf.keras.layers.Dense(128, activation = 'relu'), \n",
        "      tf.keras.layers.Dense(64, activation = 'relu'), \n",
        "      tf.keras.layers.Dense(32, activation = 'relu'), \n",
        "      tf.keras.layers.Dense(10, activation = 'softmax') \n",
        "])\n",
        "model2.summary()\n",
        "model2.compile(optimizer= 'adam', loss = 'sparse_categorical_crossentropy', metrics = ['accuracy'])\n",
        "model2.fit(train_images, train_labels, epochs = 5)"
      ],
      "metadata": {
        "colab": {
          "base_uri": "https://localhost:8080/"
        },
        "id": "3IQkcVPVYIOv",
        "outputId": "cbc091d8-545d-4f21-aa42-17655e312c74"
      },
      "execution_count": null,
      "outputs": [
        {
          "output_type": "stream",
          "name": "stdout",
          "text": [
            "Model: \"sequential_9\"\n",
            "_________________________________________________________________\n",
            " Layer (type)                Output Shape              Param #   \n",
            "=================================================================\n",
            " flatten_9 (Flatten)         (None, 784)               0         \n",
            "                                                                 \n",
            " dense_34 (Dense)            (None, 128)               100480    \n",
            "                                                                 \n",
            " dense_35 (Dense)            (None, 64)                8256      \n",
            "                                                                 \n",
            " dense_36 (Dense)            (None, 32)                2080      \n",
            "                                                                 \n",
            " dense_37 (Dense)            (None, 10)                330       \n",
            "                                                                 \n",
            "=================================================================\n",
            "Total params: 111,146\n",
            "Trainable params: 111,146\n",
            "Non-trainable params: 0\n",
            "_________________________________________________________________\n",
            "Epoch 1/5\n",
            "1875/1875 [==============================] - 11s 5ms/step - loss: 1.4068 - accuracy: 0.7053\n",
            "Epoch 2/5\n",
            "1875/1875 [==============================] - 8s 4ms/step - loss: 0.5982 - accuracy: 0.7924\n",
            "Epoch 3/5\n",
            "1875/1875 [==============================] - 14s 8ms/step - loss: 0.4897 - accuracy: 0.8253\n",
            "Epoch 4/5\n",
            "1875/1875 [==============================] - 11s 6ms/step - loss: 0.4353 - accuracy: 0.8440\n",
            "Epoch 5/5\n",
            "1875/1875 [==============================] - 9s 5ms/step - loss: 0.4118 - accuracy: 0.8508\n"
          ]
        },
        {
          "output_type": "execute_result",
          "data": {
            "text/plain": [
              "<keras.callbacks.History at 0x7f9597dd6190>"
            ]
          },
          "metadata": {},
          "execution_count": 22
        }
      ]
    },
    {
      "cell_type": "code",
      "source": [
        "model2.evaluate(test_images, test_labels, verbose =2 )"
      ],
      "metadata": {
        "colab": {
          "base_uri": "https://localhost:8080/"
        },
        "id": "XvbsB0sjzQEp",
        "outputId": "929f1990-536d-4586-895c-93e926bccd01"
      },
      "execution_count": null,
      "outputs": [
        {
          "output_type": "stream",
          "name": "stdout",
          "text": [
            "313/313 - 1s - loss: 0.4370 - accuracy: 0.8454 - 738ms/epoch - 2ms/step\n"
          ]
        },
        {
          "output_type": "execute_result",
          "data": {
            "text/plain": [
              "[0.4370315372943878, 0.8453999757766724]"
            ]
          },
          "metadata": {},
          "execution_count": 25
        }
      ]
    },
    {
      "cell_type": "code",
      "source": [
        "pred_1 = model.predict(test_images)\n",
        "pred_2 = model2.predict(test_images)\n",
        "print(pred_1)\n",
        "print(pred_2) \n",
        "print(pred_1.shape)\n",
        "print(pred_2.shape)"
      ],
      "metadata": {
        "colab": {
          "base_uri": "https://localhost:8080/"
        },
        "id": "JFWAptmvzneY",
        "outputId": "24a07347-3db7-4754-b534-2286acf6a95a"
      },
      "execution_count": null,
      "outputs": [
        {
          "output_type": "stream",
          "name": "stdout",
          "text": [
            "[[2.7143123e-17 5.8362853e-18 0.0000000e+00 ... 1.3017610e-01\n",
            "  8.9298154e-13 8.3618873e-01]\n",
            " [1.0419625e-02 3.9457888e-04 7.4586600e-01 ... 1.7218780e-21\n",
            "  5.2535008e-05 9.3732379e-13]\n",
            " [1.7776008e-08 9.9999130e-01 4.3642814e-09 ... 0.0000000e+00\n",
            "  8.7201943e-06 3.6871351e-24]\n",
            " ...\n",
            " [1.1632447e-03 5.7506757e-15 2.8041404e-05 ... 3.0461498e-04\n",
            "  9.5599580e-01 1.9096215e-06]\n",
            " [6.5876842e-09 9.9999261e-01 8.0954010e-10 ... 0.0000000e+00\n",
            "  6.8822696e-06 1.4990247e-25]\n",
            " [1.9176857e-10 3.0755560e-13 5.1894009e-09 ... 5.0023474e-02\n",
            "  1.4603625e-03 1.4324361e-03]]\n",
            "[[2.0452746e-13 3.1501295e-09 1.9181283e-09 ... 4.1308174e-01\n",
            "  2.8486100e-05 5.6212658e-01]\n",
            " [1.8494783e-04 4.6384332e-09 9.6934164e-01 ... 4.7222624e-25\n",
            "  5.2529220e-05 4.1280230e-22]\n",
            " [1.3957782e-09 9.9999678e-01 1.3079317e-14 ... 0.0000000e+00\n",
            "  2.0748275e-30 5.3490317e-21]\n",
            " ...\n",
            " [9.3731833e-06 2.3948774e-11 2.6645142e-05 ... 2.1801879e-06\n",
            "  9.9995887e-01 2.3187054e-13]\n",
            " [9.4926418e-06 9.9988770e-01 1.1036251e-08 ... 2.0553045e-28\n",
            "  1.3285799e-20 7.2956314e-16]\n",
            " [1.2032064e-02 1.6155620e-05 9.5394417e-04 ... 7.1394689e-02\n",
            "  6.8747973e-01 7.3837966e-04]]\n",
            "(10000, 10)\n",
            "(10000, 10)\n"
          ]
        }
      ]
    },
    {
      "cell_type": "code",
      "source": [
        "yhat1 = np.argmax(pred_1, axis =1) # ,row 별로 확률이 가장 높은 것 출력\n",
        "yhat2 = np.argmax(pred_2, axis =1)\n",
        "print(yhat1.shape)\n",
        "print(yhat2.shape)\n",
        "print(yhat1)\n",
        "print(yhat2)"
      ],
      "metadata": {
        "colab": {
          "base_uri": "https://localhost:8080/"
        },
        "id": "fGZxCBMU4H0l",
        "outputId": "ed702030-6abe-42f9-b045-2fa90ba96ce8"
      },
      "execution_count": null,
      "outputs": [
        {
          "output_type": "stream",
          "name": "stdout",
          "text": [
            "(10000,)\n",
            "(10000,)\n",
            "[9 2 1 ... 8 1 5]\n",
            "[9 2 1 ... 8 1 8]\n"
          ]
        }
      ]
    },
    {
      "cell_type": "code",
      "source": [
        "from sklearn.metrics import confusion_matrix\n",
        "conf_mat1 = confusion_matrix(test_labels, yhat1)\n",
        "conf_mat2 = confusion_matrix(test_labels, yhat2)\n",
        "plt.matshow(conf_mat1)\n",
        "plt.matshow(conf_mat2)"
      ],
      "metadata": {
        "colab": {
          "base_uri": "https://localhost:8080/",
          "height": 552
        },
        "id": "qbuLFXfI5axO",
        "outputId": "fabeda66-571b-426a-b9ad-e1f87698984d"
      },
      "execution_count": null,
      "outputs": [
        {
          "output_type": "execute_result",
          "data": {
            "text/plain": [
              "<matplotlib.image.AxesImage at 0x7f9594709d90>"
            ]
          },
          "metadata": {},
          "execution_count": 36
        },
        {
          "output_type": "display_data",
          "data": {
            "text/plain": [
              "<Figure size 288x288 with 1 Axes>"
            ],
            "image/png": "[encoded data removed]"
          },
          "metadata": {
            "needs_background": "light"
          }
        },
        {
          "output_type": "display_data",
          "data": {
            "text/plain": [
              "<Figure size 288x288 with 1 Axes>"
            ],
            "image/png": "[encoded data removed]"
          },
          "metadata": {
            "needs_background": "light"
          }
        }
      ]
    },
    {
      "cell_type": "code",
      "source": [
        "print(type(yhat1))\n",
        "print(type(test_labels))\n",
        "print(np.corrcoef(test_labels, yhat1))\n",
        "print(np.corrcoef(test_labels, yhat2)) # layers를 추가한 것이 corr 값이 조금 더 크게 나온다"
      ],
      "metadata": {
        "colab": {
          "base_uri": "https://localhost:8080/"
        },
        "id": "ljjcMkUa7FDm",
        "outputId": "1ec708dc-ff43-4580-e1d1-e519b0fa1223"
      },
      "execution_count": null,
      "outputs": [
        {
          "output_type": "stream",
          "name": "stdout",
          "text": [
            "<class 'numpy.ndarray'>\n",
            "<class 'numpy.ndarray'>\n",
            "[[1.         0.86175903]\n",
            " [0.86175903 1.        ]]\n",
            "[[1.         0.87174522]\n",
            " [0.87174522 1.        ]]\n"
          ]
        }
      ]
    },
    {
      "cell_type": "code",
      "source": [
        "model2.save('./drive/My Drive/myFirstModel_cheolH.h5')"
      ],
      "metadata": {
        "id": "AwEO5yG276-0"
      },
      "execution_count": null,
      "outputs": []
    },
    {
      "cell_type": "code",
      "source": [
        "!ls './drive/My Drive' -la"
      ],
      "metadata": {
        "colab": {
          "base_uri": "https://localhost:8080/"
        },
        "id": "tf8idSA49oPu",
        "outputId": "c08c8153-151a-4aae-d8e3-7db295a830c8"
      },
      "execution_count": null,
      "outputs": [
        {
          "output_type": "stream",
          "name": "stdout",
          "text": [
            "total 2666\n",
            "-rw------- 1 root root   73930 Apr 12  2021  bag_cartoon.png\n",
            "drwx------ 2 root root    4096 May 29 13:32 'Colab Notebooks'\n",
            "-rw------- 1 root root  665719 Jun  2 17:55  image.zip\n",
            "-rw------- 1 root root  598385 Apr 12  2021  myData.png\n",
            "-rw------- 1 root root 1374640 Jun  4 18:24  myFirstModel_cheolH.h5\n",
            "-rw------- 1 root root    5602 Jul 26  2021  README.md\n",
            "-rw------- 1 root root    6149 Jul 26  2021  syllabus.md\n"
          ]
        }
      ]
    },
    {
      "cell_type": "code",
      "source": [
        "model_imported = tf.keras.models.load_model('./drive/My Drive/myFirstModel_cheolH.h5')\n",
        "model_imported.summary()"
      ],
      "metadata": {
        "colab": {
          "base_uri": "https://localhost:8080/"
        },
        "id": "lI-II6zK9vVc",
        "outputId": "8ff41c45-fafa-48d2-d3ac-c7175c213d58"
      },
      "execution_count": null,
      "outputs": [
        {
          "output_type": "stream",
          "name": "stdout",
          "text": [
            "Model: \"sequential_9\"\n",
            "_________________________________________________________________\n",
            " Layer (type)                Output Shape              Param #   \n",
            "=================================================================\n",
            " flatten_9 (Flatten)         (None, 784)               0         \n",
            "                                                                 \n",
            " dense_34 (Dense)            (None, 128)               100480    \n",
            "                                                                 \n",
            " dense_35 (Dense)            (None, 64)                8256      \n",
            "                                                                 \n",
            " dense_36 (Dense)            (None, 32)                2080      \n",
            "                                                                 \n",
            " dense_37 (Dense)            (None, 10)                330       \n",
            "                                                                 \n",
            "=================================================================\n",
            "Total params: 111,146\n",
            "Trainable params: 111,146\n",
            "Non-trainable params: 0\n",
            "_________________________________________________________________\n"
          ]
        }
      ]
    },
    {
      "cell_type": "code",
      "source": [
        "import cv2\n",
        "img = cv2.imread('./drive/My Drive/bag_cartoon.png', cv2.IMREAD_GRAYSCALE)\n",
        "plt.imshow(img)"
      ],
      "metadata": {
        "colab": {
          "base_uri": "https://localhost:8080/",
          "height": 288
        },
        "id": "T8J0R6fF94iL",
        "outputId": "12ae75bc-779c-4adf-addd-dc747930fbfb"
      },
      "execution_count": null,
      "outputs": [
        {
          "output_type": "execute_result",
          "data": {
            "text/plain": [
              "<matplotlib.image.AxesImage at 0x7f959466b850>"
            ]
          },
          "metadata": {},
          "execution_count": 47
        },
        {
          "output_type": "display_data",
          "data": {
            "text/plain": [
              "<Figure size 432x288 with 1 Axes>"
            ],
            "image/png": "[encoded data removed]"
          },
          "metadata": {
            "needs_background": "light"
          }
        }
      ]
    },
    {
      "cell_type": "code",
      "source": [
        "img = cv2.resize(img, (28,28))\n",
        "plt.imshow(img)"
      ],
      "metadata": {
        "colab": {
          "base_uri": "https://localhost:8080/",
          "height": 284
        },
        "id": "m1Yig2cx-nAF",
        "outputId": "fdf2bb58-8f7d-4f29-aade-412c9daf8270"
      },
      "execution_count": null,
      "outputs": [
        {
          "output_type": "execute_result",
          "data": {
            "text/plain": [
              "<matplotlib.image.AxesImage at 0x7f9594595f50>"
            ]
          },
          "metadata": {},
          "execution_count": 49
        },
        {
          "output_type": "display_data",
          "data": {
            "text/plain": [
              "<Figure size 432x288 with 1 Axes>"
            ],
            "image/png": "[encoded data removed]"
          },
          "metadata": {
            "needs_background": "light"
          }
        }
      ]
    },
    {
      "cell_type": "code",
      "source": [
        "input_data = img[np.newaxis, :,:]\n",
        "print(input_data.shape)\n",
        "np.argmax(model_imported.predict(input_data))"
      ],
      "metadata": {
        "colab": {
          "base_uri": "https://localhost:8080/"
        },
        "id": "C9XjBX_r-uzD",
        "outputId": "a1ef618f-1268-4f06-d2d4-8903c91585b8"
      },
      "execution_count": null,
      "outputs": [
        {
          "output_type": "stream",
          "name": "stdout",
          "text": [
            "(1, 28, 28)\n"
          ]
        },
        {
          "output_type": "execute_result",
          "data": {
            "text/plain": [
              "8"
            ]
          },
          "metadata": {},
          "execution_count": 57
        }
      ]
    }
  ]
}
