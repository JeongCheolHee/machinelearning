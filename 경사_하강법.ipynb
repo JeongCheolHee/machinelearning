{
  "nbformat": 4,
  "nbformat_minor": 0,
  "metadata": {
    "colab": {
      "provenance": [],
      "authorship_tag": "ABX9TyNMUkOvAg5idW/+A+zU4D2R",
      "include_colab_link": true
    },
    "kernelspec": {
      "name": "python3",
      "display_name": "Python 3"
    },
    "language_info": {
      "name": "python"
    }
  },
  "cells": [
    {
      "cell_type": "markdown",
      "metadata": {
        "id": "view-in-github",
        "colab_type": "text"
      },
      "source": [
        "<a href=\"https://colab.research.google.com/github/JeongCheolHee/colab/blob/main/%EA%B2%BD%EC%82%AC_%ED%95%98%EA%B0%95%EB%B2%95.ipynb\" target=\"_parent\"><img src=\"https://colab.research.google.com/assets/colab-badge.svg\" alt=\"Open In Colab\"/></a>"
      ]
    },
    {
      "cell_type": "code",
      "execution_count": 3,
      "metadata": {
        "id": "MUgSLnFaKbfU"
      },
      "outputs": [],
      "source": [
        "  #점진적인 학습\n",
        "  #확률적 경사 하강법 가파른 길을 조금씩 천천히\n",
        "  #손실함수 : 어떤 문제에서 머신러닝 알고리즘이 얼마나 엉터리인지를 측정하는 기준 \n",
        "  #손실함수 값을 찾기 위해 경사 하강법 사용 - 손실함수는 미분이 가능해야함 즉 정확도를 손실함수로 사용하기에는 무리가 있음\n",
        "  #로지스틱 손실 함수 : 양성 클래스(타킷 =1)일 땐 -log(예측확률), 음성 클래스(타킷 = 0)일 땐 -log(1-예측확률)\n",
        "  #이진 분류 : 로지스틱 손실 함수 사용 , 다중 분류 : 크로스엔트로피 손실 함수 사용"
      ]
    },
    {
      "cell_type": "code",
      "source": [
        "#경사 하강법을 사용한 분류 모델\n",
        "#SGDClassifier\n",
        "import pandas as pd\n",
        "fish = pd.read_csv(\"https://bit.ly/fish_csv_data\")\n",
        "fish_input = fish[['Weight','Length','Diagonal','Height','Width']].to_numpy()\n",
        "fish_target = fish['Species'].to_numpy()"
      ],
      "metadata": {
        "id": "FciEI4ZS8Weq"
      },
      "execution_count": 4,
      "outputs": []
    },
    {
      "cell_type": "code",
      "source": [
        "from sklearn.model_selection import train_test_split\n",
        "train_input, test_input, train_target, test_target = train_test_split(fish_input, fish_target, random_state=42)\n",
        "\n",
        "#훈련세트와 데트스 세트의 특성을 표준화 전처리 (주의 : 훈련세트에서 학습한 통계값으로 테스트 세트도 변환해야 함)\n",
        "from sklearn.preprocessing import StandardScaler\n",
        "ss = StandardScaler()\n",
        "ss.fit(train_input)\n",
        "train_scaled = ss.transform(train_input)\n",
        "test_scaled = ss.transform(test_input)"
      ],
      "metadata": {
        "id": "s6eoVVFX86lh"
      },
      "execution_count": 5,
      "outputs": []
    },
    {
      "cell_type": "code",
      "source": [
        "#경사하강법을 제공하는 클래스\n",
        "from sklearn.linear_model import SGDClassifier\n",
        "sc = SGDClassifier(loss = 'log', max_iter = 10, random_state = 42) # loss = log (손실함수 = 로지스틱)\n",
        "sc.fit(train_scaled, train_target)\n",
        "print(sc.score(train_scaled, train_target))\n",
        "print(sc.score(test_scaled, test_target))\n",
        "#ConvergenceWarning: 모델이 충분히 수렴하지 않았다는 경고 이럴 땐 max_iter 매개변수의 값을 늘려 주는 것이 좋다"
      ],
      "metadata": {
        "id": "d1Y2-0ad9YRX",
        "colab": {
          "base_uri": "https://localhost:8080/"
        },
        "outputId": "78083ea3-6625-4b6f-87e8-c64a97941984"
      },
      "execution_count": 16,
      "outputs": [
        {
          "output_type": "stream",
          "name": "stdout",
          "text": [
            "0.773109243697479\n",
            "0.775\n"
          ]
        },
        {
          "output_type": "stream",
          "name": "stderr",
          "text": [
            "/usr/local/lib/python3.8/dist-packages/sklearn/linear_model/_stochastic_gradient.py:696: ConvergenceWarning: Maximum number of iteration reached before convergence. Consider increasing max_iter to improve the fit.\n",
            "  warnings.warn(\n"
          ]
        }
      ]
    },
    {
      "cell_type": "code",
      "source": [
        "#확률적 경사 하강법은 점진적 학습이 가능하므로 객체를 다시 만들지 않고 훈련한 모델 sc를 추가로 더 훈련 가능 partial_fit()메서드를 사용하면 호출할 때마다 1 에포크씩 이어서 훈련\n",
        "sc.partial_fit(train_scaled, train_target)\n",
        "print(sc.score(train_scaled, train_target))\n",
        "print(sc.score(test_scaled, test_target))"
      ],
      "metadata": {
        "colab": {
          "base_uri": "https://localhost:8080/"
        },
        "id": "ceHolxZRxSOC",
        "outputId": "2f451cd4-6be4-4c86-a130-39f010219684"
      },
      "execution_count": 21,
      "outputs": [
        {
          "output_type": "stream",
          "name": "stdout",
          "text": [
            "0.8571428571428571\n",
            "0.9\n"
          ]
        }
      ]
    },
    {
      "cell_type": "code",
      "source": [
        "#에포크와 과대/과소적합\n",
        "import numpy as np\n",
        "sc = SGDClassifier(loss = 'log', random_state = 42)\n",
        "train_score = []\n",
        "test_score = []\n",
        "classes = np.unique(train_target)\n",
        "\n",
        "for _ in range(0,300):\n",
        "  sc.partial_fit(train_scaled, train_target, classes = classes)\n",
        "  train_score.append(sc.score(train_scaled, train_target))\n",
        "  train_score.append(sc.score(test_scaled, test_target)) #append함수를 통해 score list안에 300번의 에포크 결과값 대입"
      ],
      "metadata": {
        "id": "-UQrGU084n9-"
      },
      "execution_count": 24,
      "outputs": []
    },
    {
      "cell_type": "code",
      "source": [
        "import matplotlib.pyplot as plt\n",
        "?plt.plot\n",
        "plt.plot(train_score)\n",
        "plt.plot(test_score)\n",
        "plt.xlabel('epoch')\n",
        "plt.ylabel('accuracy')\n",
        "plt.show()"
      ],
      "metadata": {
        "colab": {
          "base_uri": "https://localhost:8080/",
          "height": 279
        },
        "id": "c222qlIj96Sy",
        "outputId": "d9bb7676-fe9b-453c-9e2a-140fb0f002de"
      },
      "execution_count": 39,
      "outputs": [
        {
          "output_type": "display_data",
          "data": {
            "text/plain": [
              "<Figure size 432x288 with 1 Axes>"
            ],
            "image/png": "[encoded data removed]"
          },
          "metadata": {
            "needs_background": "light"
          }
        }
      ]
    },
    {
      "cell_type": "code",
      "source": [
        "sc = SGDClassifier(loss = 'log', max_iter = 100, tol = None, random_state=42)\n",
        "sc.fit(train_scaled, train_target)\n",
        "print(sc.score(train_scaled, train_target))\n",
        "print(sc.score(test_scaled, test_target))\n",
        "#SGDClassifier는 일정 에포크 동안 성능이 향상되지 않으면 훈련이 자동으로 멈춤\n",
        "#tol 향상될 최솟값을 지정하기 때문에 None으로 설정을 해둬야 100번 반복할때까지 자동으로 멈추지 않음"
      ],
      "metadata": {
        "colab": {
          "base_uri": "https://localhost:8080/"
        },
        "id": "LLf-CBuu_7O3",
        "outputId": "0a8d9bb2-a217-4e38-fb89-383f3af9e2e5"
      },
      "execution_count": 43,
      "outputs": [
        {
          "output_type": "stream",
          "name": "stdout",
          "text": [
            "0.957983193277311\n",
            "0.925\n"
          ]
        }
      ]
    },
    {
      "cell_type": "code",
      "source": [],
      "metadata": {
        "id": "eI1ORzVZCrL9"
      },
      "execution_count": null,
      "outputs": []
    }
  ]
}