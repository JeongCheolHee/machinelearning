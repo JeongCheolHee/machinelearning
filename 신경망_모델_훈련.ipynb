{
  "nbformat": 4,
  "nbformat_minor": 0,
  "metadata": {
    "colab": {
      "provenance": [],
      "authorship_tag": "ABX9TyPrmSx7kPRVoGN9qaicEgLh",
      "include_colab_link": true
    },
    "kernelspec": {
      "name": "python3",
      "display_name": "Python 3"
    },
    "language_info": {
      "name": "python"
    }
  },
  "cells": [
    {
      "cell_type": "markdown",
      "metadata": {
        "id": "view-in-github",
        "colab_type": "text"
      },
      "source": [
        "<a href=\"https://colab.research.google.com/github/JeongCheolHee/machinelearning/blob/main/%EC%8B%A0%EA%B2%BD%EB%A7%9D_%EB%AA%A8%EB%8D%B8_%ED%9B%88%EB%A0%A8.ipynb\" target=\"_parent\"><img src=\"https://colab.research.google.com/assets/colab-badge.svg\" alt=\"Open In Colab\"/></a>"
      ]
    },
    {
      "cell_type": "code",
      "execution_count": 1,
      "metadata": {
        "colab": {
          "base_uri": "https://localhost:8080/"
        },
        "id": "FV-GgkD4moO4",
        "outputId": "fc5281f7-e900-4360-fac6-f0a7237e72dc"
      },
      "outputs": [
        {
          "output_type": "stream",
          "name": "stdout",
          "text": [
            "Downloading data from https://storage.googleapis.com/tensorflow/tf-keras-datasets/train-labels-idx1-ubyte.gz\n",
            "29515/29515 [==============================] - 0s 0us/step\n",
            "Downloading data from https://storage.googleapis.com/tensorflow/tf-keras-datasets/train-images-idx3-ubyte.gz\n",
            "26421880/26421880 [==============================] - 2s 0us/step\n",
            "Downloading data from https://storage.googleapis.com/tensorflow/tf-keras-datasets/t10k-labels-idx1-ubyte.gz\n",
            "5148/5148 [==============================] - 0s 0us/step\n",
            "Downloading data from https://storage.googleapis.com/tensorflow/tf-keras-datasets/t10k-images-idx3-ubyte.gz\n",
            "4422102/4422102 [==============================] - 0s 0us/step\n"
          ]
        }
      ],
      "source": [
        "#손실곡선\n",
        "from tensorflow import keras\n",
        "from sklearn.model_selection import train_test_split\n",
        "(train_input, train_target), (test_input, test_target) = keras.datasets.fashion_mnist.load_data()\n",
        "train_scaled = train_input / 255.0\n",
        "train_scaled, val_scaled, train_target, val_target = train_test_split(train_scaled, train_target, test_size = 0.2, random_state = 42) "
      ]
    },
    {
      "cell_type": "code",
      "source": [
        "#모델을 함수로 정의\n",
        "def model_fn(a_layer = None):\n",
        "  model = keras.Sequential()\n",
        "  model.add(keras.layers.Flatten(input_shape = (28,28)))\n",
        "  model.add(keras.layers.Dense(100, activation = 'relu'))\n",
        "  if a_layer:\n",
        "    model.add(a_layer)\n",
        "  model.add(keras.layers.Dense(10, activation = 'softmax'))\n",
        "  return model"
      ],
      "metadata": {
        "id": "yJxzmQm4s4Ol"
      },
      "execution_count": 14,
      "outputs": []
    },
    {
      "cell_type": "code",
      "source": [
        "model = model_fn()\n",
        "model.summary()"
      ],
      "metadata": {
        "colab": {
          "base_uri": "https://localhost:8080/"
        },
        "id": "5YySkZa4todu",
        "outputId": "c6b70934-f569-427d-f096-b26d87a4e109"
      },
      "execution_count": 24,
      "outputs": [
        {
          "output_type": "stream",
          "name": "stdout",
          "text": [
            "Model: \"sequential_10\"\n",
            "_________________________________________________________________\n",
            " Layer (type)                Output Shape              Param #   \n",
            "=================================================================\n",
            " flatten_8 (Flatten)         (None, 784)               0         \n",
            "                                                                 \n",
            " dense_17 (Dense)            (None, 100)               78500     \n",
            "                                                                 \n",
            " dense_18 (Dense)            (None, 10)                1010      \n",
            "                                                                 \n",
            "=================================================================\n",
            "Total params: 79,510\n",
            "Trainable params: 79,510\n",
            "Non-trainable params: 0\n",
            "_________________________________________________________________\n"
          ]
        }
      ]
    },
    {
      "cell_type": "code",
      "source": [
        "'''model = model_fn(keras.layers.Dense(50, activation = 'relu'))\n",
        "model.summary()'''"
      ],
      "metadata": {
        "colab": {
          "base_uri": "https://localhost:8080/"
        },
        "id": "744SnOvLuqLt",
        "outputId": "7b83ee20-a2bc-4445-de57-d689f12421bf"
      },
      "execution_count": 23,
      "outputs": [
        {
          "output_type": "stream",
          "name": "stdout",
          "text": [
            "Model: \"sequential_9\"\n",
            "_________________________________________________________________\n",
            " Layer (type)                Output Shape              Param #   \n",
            "=================================================================\n",
            " flatten_7 (Flatten)         (None, 784)               0         \n",
            "                                                                 \n",
            " dense_15 (Dense)            (None, 100)               78500     \n",
            "                                                                 \n",
            " dense_14 (Dense)            (None, 50)                5050      \n",
            "                                                                 \n",
            " dense_16 (Dense)            (None, 10)                510       \n",
            "                                                                 \n",
            "=================================================================\n",
            "Total params: 84,060\n",
            "Trainable params: 84,060\n",
            "Non-trainable params: 0\n",
            "_________________________________________________________________\n"
          ]
        }
      ]
    },
    {
      "cell_type": "code",
      "source": [
        "model.compile(loss = \"sparse_categorical_crossentropy\", metrics = 'accuracy')\n",
        "history = model.fit(train_scaled, train_target, epochs = 5, verbose = 2) #verbose = 0 이면 훈련과정 출력하지 않음 ,= 1 이면 출력, =2 이면 진행 막대를 빼고 출력"
      ],
      "metadata": {
        "colab": {
          "base_uri": "https://localhost:8080/"
        },
        "id": "cOPYZ492wFx3",
        "outputId": "0eae18e5-b774-4aa7-98ca-b875c0c4b96b"
      },
      "execution_count": 27,
      "outputs": [
        {
          "output_type": "stream",
          "name": "stdout",
          "text": [
            "Epoch 1/5\n",
            "1500/1500 - 4s - loss: 0.3086 - accuracy: 0.8905 - 4s/epoch - 3ms/step\n",
            "Epoch 2/5\n",
            "1500/1500 - 5s - loss: 0.2960 - accuracy: 0.8955 - 5s/epoch - 3ms/step\n",
            "Epoch 3/5\n",
            "1500/1500 - 3s - loss: 0.2892 - accuracy: 0.8992 - 3s/epoch - 2ms/step\n",
            "Epoch 4/5\n",
            "1500/1500 - 4s - loss: 0.2851 - accuracy: 0.9005 - 4s/epoch - 2ms/step\n",
            "Epoch 5/5\n",
            "1500/1500 - 5s - loss: 0.2760 - accuracy: 0.9032 - 5s/epoch - 3ms/step\n"
          ]
        }
      ]
    },
    {
      "cell_type": "code",
      "source": [
        "print(history.history.keys()) #훈련 측정값 출력 '손실', '정확도'"
      ],
      "metadata": {
        "colab": {
          "base_uri": "https://localhost:8080/"
        },
        "id": "-iMuWsYSxboT",
        "outputId": "9068bfee-499c-4415-dadd-c5f1f02c9fcd"
      },
      "execution_count": 29,
      "outputs": [
        {
          "output_type": "stream",
          "name": "stdout",
          "text": [
            "dict_keys(['loss', 'accuracy'])\n"
          ]
        }
      ]
    },
    {
      "cell_type": "code",
      "source": [
        "#손실 출력\n",
        "import matplotlib.pyplot as plt\n",
        "plt.plot(history.history['loss'])\n",
        "plt.xlabel('epochs')\n",
        "plt.ylabel('loss')\n",
        "plt.show()"
      ],
      "metadata": {
        "colab": {
          "base_uri": "https://localhost:8080/",
          "height": 282
        },
        "id": "YjvCSdQ5zAu2",
        "outputId": "a111484d-8068-4440-8f0f-e5ea8ef4d810"
      },
      "execution_count": 31,
      "outputs": [
        {
          "output_type": "display_data",
          "data": {
            "text/plain": [
              "<Figure size 432x288 with 1 Axes>"
            ],
            "image/png": "[encoded data removed]"
          },
          "metadata": {
            "needs_background": "light"
          }
        }
      ]
    },
    {
      "cell_type": "code",
      "source": [
        "#정확도 출력\n",
        "plt.plot(history.history['accuracy'])\n",
        "plt.xlabel('epochs')\n",
        "plt.ylabel('accuracy')\n",
        "plt.show()"
      ],
      "metadata": {
        "colab": {
          "base_uri": "https://localhost:8080/",
          "height": 279
        },
        "id": "bynspnfTzpVk",
        "outputId": "2f9839ce-06ef-483d-a9fd-8c621153daa6"
      },
      "execution_count": 36,
      "outputs": [
        {
          "output_type": "display_data",
          "data": {
            "text/plain": [
              "<Figure size 432x288 with 1 Axes>"
            ],
            "image/png": "[encoded data removed]"
          },
          "metadata": {
            "needs_background": "light"
          }
        }
      ]
    },
    {
      "cell_type": "code",
      "source": [
        "model = model_fn()\n",
        "model.compile(loss = 'sparse_categorical_crossentropy', metrics = 'accuracy')\n",
        "histroy = model.fit(train_scaled, train_target, epochs = 20, verbose = 0)\n",
        "plt.plot(history.history['loss'])"
      ],
      "metadata": {
        "colab": {
          "base_uri": "https://localhost:8080/",
          "height": 1000
        },
        "id": "N0vzS-orz_J0",
        "outputId": "a17afd0a-7a8d-48af-edc4-791e742b4e73"
      },
      "execution_count": 38,
      "outputs": [
        {
          "output_type": "stream",
          "name": "stdout",
          "text": [
            "Epoch 1/20\n",
            "1500/1500 [==============================] - 6s 3ms/step - loss: 0.5287 - accuracy: 0.8136\n",
            "Epoch 2/20\n",
            "1500/1500 [==============================] - 9s 6ms/step - loss: 0.3902 - accuracy: 0.8596\n",
            "Epoch 3/20\n",
            "1500/1500 [==============================] - 5s 3ms/step - loss: 0.3549 - accuracy: 0.8729\n",
            "Epoch 4/20\n",
            "1500/1500 [==============================] - 6s 4ms/step - loss: 0.3326 - accuracy: 0.8806\n",
            "Epoch 5/20\n",
            "1500/1500 [==============================] - 5s 3ms/step - loss: 0.3192 - accuracy: 0.8866\n",
            "Epoch 6/20\n",
            "1500/1500 [==============================] - 5s 3ms/step - loss: 0.3059 - accuracy: 0.8917\n",
            "Epoch 7/20\n",
            "1500/1500 [==============================] - 6s 4ms/step - loss: 0.2987 - accuracy: 0.8941\n",
            "Epoch 8/20\n",
            "1500/1500 [==============================] - 5s 3ms/step - loss: 0.2913 - accuracy: 0.8967\n",
            "Epoch 9/20\n",
            "1500/1500 [==============================] - 6s 4ms/step - loss: 0.2821 - accuracy: 0.9002\n",
            "Epoch 10/20\n",
            "1500/1500 [==============================] - 5s 3ms/step - loss: 0.2789 - accuracy: 0.9034\n",
            "Epoch 11/20\n",
            "1500/1500 [==============================] - 6s 4ms/step - loss: 0.2711 - accuracy: 0.9052\n",
            "Epoch 12/20\n",
            "1500/1500 [==============================] - 5s 4ms/step - loss: 0.2666 - accuracy: 0.9070\n",
            "Epoch 13/20\n",
            "1500/1500 [==============================] - 5s 3ms/step - loss: 0.2595 - accuracy: 0.9091\n",
            "Epoch 14/20\n",
            "1500/1500 [==============================] - 6s 4ms/step - loss: 0.2562 - accuracy: 0.9112\n",
            "Epoch 15/20\n",
            "1500/1500 [==============================] - 5s 3ms/step - loss: 0.2523 - accuracy: 0.9128\n",
            "Epoch 16/20\n",
            "1500/1500 [==============================] - 6s 4ms/step - loss: 0.2481 - accuracy: 0.9141\n",
            "Epoch 17/20\n",
            "1500/1500 [==============================] - 5s 3ms/step - loss: 0.2439 - accuracy: 0.9174\n",
            "Epoch 18/20\n",
            "1500/1500 [==============================] - 5s 3ms/step - loss: 0.2388 - accuracy: 0.9174\n",
            "Epoch 19/20\n",
            "1500/1500 [==============================] - 7s 5ms/step - loss: 0.2353 - accuracy: 0.9187\n",
            "Epoch 20/20\n",
            "1500/1500 [==============================] - 5s 3ms/step - loss: 0.2313 - accuracy: 0.9201\n"
          ]
        },
        {
          "output_type": "execute_result",
          "data": {
            "text/plain": [
              "[<matplotlib.lines.Line2D at 0x7f23cb7950d0>]"
            ]
          },
          "metadata": {},
          "execution_count": 38
        },
        {
          "output_type": "display_data",
          "data": {
            "text/plain": [
              "<Figure size 432x288 with 1 Axes>"
            ],
            "image/png": "[encoded data removed]"
          },
          "metadata": {
            "needs_background": "light"
          }
        }
      ]
    },
    {
      "cell_type": "code",
      "source": [
        "#검증손실 과대/과소적합과 에포크 사이의 관계\n",
        "model = model_fn()\n",
        "model.compile(loss = 'sparse_categorical_crossentropy', metrics = 'accuracy')\n",
        "history = model.fit(train_scaled, train_target, epochs = 20, verbose = 0,\n",
        "                    validation_data = (val_scaled, val_target))"
      ],
      "metadata": {
        "id": "aUA1JxiT1nsB"
      },
      "execution_count": 42,
      "outputs": []
    },
    {
      "cell_type": "code",
      "source": [
        "print(history.history.keys())"
      ],
      "metadata": {
        "colab": {
          "base_uri": "https://localhost:8080/"
        },
        "id": "XBPzkKOx5dMQ",
        "outputId": "dc9451b5-9aca-4789-cf0c-4a474418686c"
      },
      "execution_count": 44,
      "outputs": [
        {
          "output_type": "stream",
          "name": "stdout",
          "text": [
            "dict_keys(['loss', 'accuracy', 'val_loss', 'val_accuracy'])\n"
          ]
        }
      ]
    },
    {
      "cell_type": "code",
      "source": [
        "plt.plot(history.history['loss'])\n",
        "plt.plot(history.history['val_loss'])\n",
        "plt.xlabel('epoch')\n",
        "plt.ylabel('loss')\n",
        "plt.legend(['train', 'val'])"
      ],
      "metadata": {
        "colab": {
          "base_uri": "https://localhost:8080/",
          "height": 298
        },
        "id": "YynHYt_N7LwL",
        "outputId": "dfa32cca-64e3-4b71-e4ae-fef7c3b5c1f1"
      },
      "execution_count": 47,
      "outputs": [
        {
          "output_type": "execute_result",
          "data": {
            "text/plain": [
              "<matplotlib.legend.Legend at 0x7f23d0cd0130>"
            ]
          },
          "metadata": {},
          "execution_count": 47
        },
        {
          "output_type": "display_data",
          "data": {
            "text/plain": [
              "<Figure size 432x288 with 1 Axes>"
            ],
            "image/png": "[encoded data removed]"
          },
          "metadata": {
            "needs_background": "light"
          }
        }
      ]
    },
    {
      "cell_type": "code",
      "source": [
        "#adma 옵티마이저를 사용\n",
        "model = model_fn()\n",
        "model.compile(optimizer = 'adam' ,loss = 'sparse_categorical_crossentropy', metrics = 'accuracy')\n",
        "history = model.fit(train_scaled, train_target, epochs = 20, verbose = 0,\n",
        "                    validation_data = (val_scaled, val_target))\n",
        "plt.plot(history.history['loss'])\n",
        "plt.plot(history.history['val_loss'])\n",
        "plt.xlabel('epoch')\n",
        "plt.ylabel('loss')\n",
        "plt.legend(['train', 'val'])"
      ],
      "metadata": {
        "colab": {
          "base_uri": "https://localhost:8080/",
          "height": 298
        },
        "id": "yWKc7yF97XEB",
        "outputId": "ee022e4d-f41b-40fb-f382-e69c6c4d2baa"
      },
      "execution_count": 48,
      "outputs": [
        {
          "output_type": "execute_result",
          "data": {
            "text/plain": [
              "<matplotlib.legend.Legend at 0x7f23d855a7c0>"
            ]
          },
          "metadata": {},
          "execution_count": 48
        },
        {
          "output_type": "display_data",
          "data": {
            "text/plain": [
              "<Figure size 432x288 with 1 Axes>"
            ],
            "image/png": "[encoded data removed]"
          },
          "metadata": {
            "needs_background": "light"
          }
        }
      ]
    },
    {
      "cell_type": "code",
      "source": [
        "#신경망에서 사용하는 대표적인 규제 방법\n",
        "#드롭아웃\n",
        "model = model_fn(keras.layers.Dropout(0.3))\n",
        "model.summary()"
      ],
      "metadata": {
        "colab": {
          "base_uri": "https://localhost:8080/"
        },
        "id": "W8QUOxMu9fq1",
        "outputId": "237af5e1-8e78-42be-96cd-87d69b71d589"
      },
      "execution_count": 49,
      "outputs": [
        {
          "output_type": "stream",
          "name": "stdout",
          "text": [
            "Model: \"sequential_18\"\n",
            "_________________________________________________________________\n",
            " Layer (type)                Output Shape              Param #   \n",
            "=================================================================\n",
            " flatten_16 (Flatten)        (None, 784)               0         \n",
            "                                                                 \n",
            " dense_33 (Dense)            (None, 100)               78500     \n",
            "                                                                 \n",
            " dropout (Dropout)           (None, 100)               0         \n",
            "                                                                 \n",
            " dense_34 (Dense)            (None, 10)                1010      \n",
            "                                                                 \n",
            "=================================================================\n",
            "Total params: 79,510\n",
            "Trainable params: 79,510\n",
            "Non-trainable params: 0\n",
            "_________________________________________________________________\n"
          ]
        }
      ]
    },
    {
      "cell_type": "code",
      "source": [
        "model.compile(optimizer = 'adam' ,loss = 'sparse_categorical_crossentropy', metrics = 'accuracy')\n",
        "history = model.fit(train_scaled, train_target, epochs = 20, verbose = 0,\n",
        "                    validation_data = (val_scaled, val_target))\n",
        "plt.plot(history.history['loss'])\n",
        "plt.plot(history.history['val_loss'])\n",
        "plt.xlabel('epoch')\n",
        "plt.ylabel('loss')\n",
        "plt.legend(['train', 'val'])"
      ],
      "metadata": {
        "colab": {
          "base_uri": "https://localhost:8080/",
          "height": 298
        },
        "id": "vJiPUYtv_gxw",
        "outputId": "00c2aa3e-ba80-4a06-ce29-d92f7e8f8c82"
      },
      "execution_count": 50,
      "outputs": [
        {
          "output_type": "execute_result",
          "data": {
            "text/plain": [
              "<matplotlib.legend.Legend at 0x7f23d0062790>"
            ]
          },
          "metadata": {},
          "execution_count": 50
        },
        {
          "output_type": "display_data",
          "data": {
            "text/plain": [
              "<Figure size 432x288 with 1 Axes>"
            ],
            "image/png": "[encoded data removed]"
          },
          "metadata": {
            "needs_background": "light"
          }
        }
      ]
    },
    {
      "cell_type": "code",
      "source": [
        "#모델 저장과 복원 by save_weights()\n",
        "model = model_fn(keras.layers.Dropout(0.3))\n",
        "model.compile(optimizer = 'adam' ,loss = 'sparse_categorical_crossentropy', metrics = 'accuracy')\n",
        "history = model.fit(train_scaled, train_target, epochs = 10, verbose = 0,\n",
        "                    validation_data = (val_scaled, val_target))"
      ],
      "metadata": {
        "id": "61_jQVcv_8A3"
      },
      "execution_count": 51,
      "outputs": []
    },
    {
      "cell_type": "code",
      "source": [
        "model.save_weights('model-weights.h5') #훈련된 모델의 파라미터를 저장"
      ],
      "metadata": {
        "id": "EmKkKUM9Ah8v"
      },
      "execution_count": 60,
      "outputs": []
    },
    {
      "cell_type": "code",
      "source": [
        "model.save('model-whole.h5') #모델구조와 모델 파라미터를 함게 저장"
      ],
      "metadata": {
        "id": "ORZ4WukcAvvp"
      },
      "execution_count": 61,
      "outputs": []
    },
    {
      "cell_type": "code",
      "source": [
        "# 두 파일 확인\n",
        "!ls -al *.h5"
      ],
      "metadata": {
        "colab": {
          "base_uri": "https://localhost:8080/"
        },
        "id": "mifWriK7A-dq",
        "outputId": "705b8bc2-7f10-4be0-9eba-dcd3a4221f1b"
      },
      "execution_count": 66,
      "outputs": [
        {
          "output_type": "stream",
          "name": "stdout",
          "text": [
            "-rw-r--r-- 1 root root 333448 Feb  8 07:55 model-weights.h5\n",
            "-rw-r--r-- 1 root root 982664 Feb  8 07:55 model-whole.h5\n"
          ]
        }
      ]
    },
    {
      "cell_type": "code",
      "source": [
        "#훈련을 하지 않은 새로운 모델을 만들고 파일에서 훈련된 모델 파라미터를 읽어서 사용\n",
        "model = model_fn(keras.layers.Dropout(0.3))\n",
        "model.load_weights('model-weights.h5')\n",
        "#검증의 정확도 확인\n",
        "import numpy as np\n",
        "val_labels = np.argmax(model.predict(val_scaled), axis = -1)\n",
        "print(np.mean(val_labels == val_target))"
      ],
      "metadata": {
        "colab": {
          "base_uri": "https://localhost:8080/"
        },
        "id": "DMw9ZTq6BEuh",
        "outputId": "70f0e67a-8886-4862-84d4-934bb7d851cc"
      },
      "execution_count": 70,
      "outputs": [
        {
          "output_type": "stream",
          "name": "stdout",
          "text": [
            "375/375 [==============================] - 1s 2ms/step\n",
            "0.8776666666666667\n"
          ]
        }
      ]
    },
    {
      "cell_type": "code",
      "source": [
        "model = keras.models.load_model('model-whole.h5')\n",
        "model.evaluate(val_scaled, val_target)"
      ],
      "metadata": {
        "colab": {
          "base_uri": "https://localhost:8080/"
        },
        "id": "0e2ahDRkCJ_g",
        "outputId": "05605cc1-ca9f-4351-c1d3-d144f5834612"
      },
      "execution_count": 71,
      "outputs": [
        {
          "output_type": "stream",
          "name": "stdout",
          "text": [
            "375/375 [==============================] - 1s 2ms/step - loss: 0.3331 - accuracy: 0.8777\n"
          ]
        },
        {
          "output_type": "execute_result",
          "data": {
            "text/plain": [
              "[0.33308517932891846, 0.8776666522026062]"
            ]
          },
          "metadata": {},
          "execution_count": 71
        }
      ]
    },
    {
      "cell_type": "code",
      "source": [
        "#규제방법\n",
        "#콜백\n",
        "model = model_fn(keras.layers.Dropout(0.3))\n",
        "model.compile(optimizer = 'adam' ,loss = 'sparse_categorical_crossentropy', metrics = 'accuracy')\n",
        "checkpoint_cb = keras.callbacks.ModelCheckpoint('best-model.h5', save_best_only = True)\n",
        "model.fit(train_scaled, train_target, epochs = 20, verbose = 0,\n",
        "          validation_data = (val_scaled, val_target),\n",
        "          callbacks = [checkpoint_cb])"
      ],
      "metadata": {
        "colab": {
          "base_uri": "https://localhost:8080/"
        },
        "id": "_hfoV1NADoJc",
        "outputId": "0433ce30-1895-4307-c68b-6a720115808f"
      },
      "execution_count": 73,
      "outputs": [
        {
          "output_type": "execute_result",
          "data": {
            "text/plain": [
              "<keras.callbacks.History at 0x7f23cb346e80>"
            ]
          },
          "metadata": {},
          "execution_count": 73
        }
      ]
    },
    {
      "cell_type": "code",
      "source": [
        "model = keras.models.load_model('best-model.h5')\n",
        "model.evaluate(val_scaled, val_target)"
      ],
      "metadata": {
        "colab": {
          "base_uri": "https://localhost:8080/"
        },
        "id": "N7M9HipHFNcF",
        "outputId": "bb6969f6-da89-4997-e6fc-aed2c82913a5"
      },
      "execution_count": 74,
      "outputs": [
        {
          "output_type": "stream",
          "name": "stdout",
          "text": [
            "375/375 [==============================] - 1s 2ms/step - loss: 0.3164 - accuracy: 0.8879\n"
          ]
        },
        {
          "output_type": "execute_result",
          "data": {
            "text/plain": [
              "[0.31638285517692566, 0.8879166841506958]"
            ]
          },
          "metadata": {},
          "execution_count": 74
        }
      ]
    },
    {
      "cell_type": "code",
      "source": [
        "#조기 종료\n",
        "#과대적합이 되기전 훈련을 미리 중지\n",
        "model = model_fn(keras.layers.Dropout(0.3))\n",
        "model.compile(optimizer = 'adam' ,loss = 'sparse_categorical_crossentropy', metrics = 'accuracy')\n",
        "checkpoint_cb = keras.callbacks.ModelCheckpoint('best-model.h5', save_best_only = True)\n",
        "early_stopping_cb = keras.callbacks.EarlyStopping(patience =2, restore_best_weights =True)\n",
        "history = model.fit(train_scaled, train_target, epochs = 20, verbose = 0,\n",
        "                    validation_data = (val_scaled, val_target),\n",
        "                    callbacks = [checkpoint_cb, early_stopping_cb])"
      ],
      "metadata": {
        "id": "F9WzYtaWFvN7"
      },
      "execution_count": 76,
      "outputs": []
    },
    {
      "cell_type": "code",
      "source": [
        "#몇 번째 에포크에서 중지됐는지\n",
        "print(early_stopping_cb.stopped_epoch)"
      ],
      "metadata": {
        "colab": {
          "base_uri": "https://localhost:8080/"
        },
        "id": "9Ysb8Hi6Ge0f",
        "outputId": "73c921b1-d1b0-4d05-e5b0-73e9349804a5"
      },
      "execution_count": 77,
      "outputs": [
        {
          "output_type": "stream",
          "name": "stdout",
          "text": [
            "7\n"
          ]
        }
      ]
    },
    {
      "cell_type": "code",
      "source": [
        "model.evaluate(val_scaled, val_target)"
      ],
      "metadata": {
        "colab": {
          "base_uri": "https://localhost:8080/"
        },
        "id": "W6E1-bclHz3K",
        "outputId": "a558d745-69a8-432a-98d6-1a7353d92416"
      },
      "execution_count": 78,
      "outputs": [
        {
          "output_type": "stream",
          "name": "stdout",
          "text": [
            "375/375 [==============================] - 1s 2ms/step - loss: 0.3388 - accuracy: 0.8759\n"
          ]
        },
        {
          "output_type": "execute_result",
          "data": {
            "text/plain": [
              "[0.3388407826423645, 0.8759166598320007]"
            ]
          },
          "metadata": {},
          "execution_count": 78
        }
      ]
    },
    {
      "cell_type": "code",
      "source": [],
      "metadata": {
        "id": "ftYvoeEDIBcE"
      },
      "execution_count": null,
      "outputs": []
    }
  ]
}